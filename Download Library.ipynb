{
 "cells": [
  {
   "cell_type": "code",
   "execution_count": 1,
   "metadata": {
    "collapsed": true
   },
   "outputs": [],
   "source": [
    "import requests"
   ]
  },
  {
   "cell_type": "code",
   "execution_count": 2,
   "metadata": {
    "collapsed": true
   },
   "outputs": [],
   "source": [
    "contents = requests.get('http://thinkbayes.com/thinkbayes.py').text"
   ]
  },
  {
   "cell_type": "code",
   "execution_count": 3,
   "metadata": {
    "collapsed": false
   },
   "outputs": [
    {
     "data": {
      "text/plain": [
       "u'\"\"\"This file contains code for use with \"Think Bay'"
      ]
     },
     "execution_count": 3,
     "metadata": {},
     "output_type": "execute_result"
    }
   ],
   "source": [
    "contents[:50]"
   ]
  },
  {
   "cell_type": "code",
   "execution_count": 4,
   "metadata": {
    "collapsed": true
   },
   "outputs": [],
   "source": [
    "with open('thinkbayes.py', 'w') as f:\n",
    "    f.write(contents)"
   ]
  },
  {
   "cell_type": "code",
   "execution_count": 5,
   "metadata": {
    "collapsed": true
   },
   "outputs": [],
   "source": [
    "import thinkbayes"
   ]
  },
  {
   "cell_type": "code",
   "execution_count": 6,
   "metadata": {
    "collapsed": false
   },
   "outputs": [
    {
     "data": {
      "text/plain": [
       "['Beta',\n",
       " 'BinomialCoef',\n",
       " 'Cdf',\n",
       " 'CredibleInterval',\n",
       " 'Dirichlet',\n",
       " 'EstimatedPdf',\n",
       " 'EvalBinomialPmf',\n",
       " 'EvalExponentialCdf',\n",
       " 'EvalExponentialPdf',\n",
       " 'EvalGaussianPdf',\n",
       " 'EvalPoissonPmf',\n",
       " 'GaussianCdf',\n",
       " 'GaussianCdfInverse',\n",
       " 'GaussianPdf',\n",
       " 'Hist',\n",
       " 'Interpolator',\n",
       " 'Joint',\n",
       " 'LogBinomialCoef',\n",
       " 'MakeCdfFromDict',\n",
       " 'MakeCdfFromHist',\n",
       " 'MakeCdfFromItems',\n",
       " 'MakeCdfFromList',\n",
       " 'MakeCdfFromPmf',\n",
       " 'MakeExponentialPmf',\n",
       " 'MakeGaussianPmf',\n",
       " 'MakeHistFromDict',\n",
       " 'MakeHistFromList',\n",
       " 'MakeJoint',\n",
       " 'MakeMixture',\n",
       " 'MakePmfFromCdf',\n",
       " 'MakePmfFromDict',\n",
       " 'MakePmfFromHist',\n",
       " 'MakePmfFromItems',\n",
       " 'MakePmfFromList',\n",
       " 'MakePoissonPmf',\n",
       " 'MakeSuiteFromCdf',\n",
       " 'MakeSuiteFromDict',\n",
       " 'MakeSuiteFromHist',\n",
       " 'MakeSuiteFromList',\n",
       " 'MakeUniformPmf',\n",
       " 'Odds',\n",
       " 'Pdf',\n",
       " 'Percentile',\n",
       " 'Pmf',\n",
       " 'PmfProbEqual',\n",
       " 'PmfProbGreater',\n",
       " 'PmfProbLess',\n",
       " 'Probability',\n",
       " 'Probability2',\n",
       " 'RandomSum',\n",
       " 'SampleSum',\n",
       " 'StandardGaussianCdf',\n",
       " 'Suite',\n",
       " 'UnimplementedMethodException',\n",
       " '_DictWrapper',\n",
       " '__builtins__',\n",
       " '__doc__',\n",
       " '__file__',\n",
       " '__name__',\n",
       " '__package__',\n",
       " 'bisect',\n",
       " 'copy',\n",
       " 'erf',\n",
       " 'erfinv',\n",
       " 'logging',\n",
       " 'math',\n",
       " 'numpy',\n",
       " 'random',\n",
       " 'scipy']"
      ]
     },
     "execution_count": 6,
     "metadata": {},
     "output_type": "execute_result"
    }
   ],
   "source": [
    "dir(thinkbayes)"
   ]
  },
  {
   "cell_type": "code",
   "execution_count": null,
   "metadata": {
    "collapsed": true
   },
   "outputs": [],
   "source": []
  }
 ],
 "metadata": {
  "kernelspec": {
   "display_name": "Python 2",
   "language": "python",
   "name": "python2"
  },
  "language_info": {
   "codemirror_mode": {
    "name": "ipython",
    "version": 2
   },
   "file_extension": ".py",
   "mimetype": "text/x-python",
   "name": "python",
   "nbconvert_exporter": "python",
   "pygments_lexer": "ipython2",
   "version": "2.7.12"
  }
 },
 "nbformat": 4,
 "nbformat_minor": 0
}
